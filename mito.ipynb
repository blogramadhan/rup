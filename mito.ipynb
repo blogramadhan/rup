{
 "cells": [
  {
   "cell_type": "code",
   "execution_count": 1,
   "id": "a89b660c-6391-455d-b708-3bd969f08901",
   "metadata": {},
   "outputs": [
    {
     "data": {
      "application/vnd.jupyter.widget-view+json": {
       "model_id": "a72cd4184b7c45df9b4ef9414cc5f823",
       "version_major": 2,
       "version_minor": 0
      },
      "text/plain": [
       "MitoWidget(analysis_data_json='{\"analysisName\": \"id-hngqohzmid\", \"analysisToReplay\": null, \"code\": [], \"stepSu…"
      ]
     },
     "metadata": {},
     "output_type": "display_data"
    }
   ],
   "source": [
    "import mitosheet\n",
    "mitosheet.sheet(analysis_to_replay=\"id-hngqohzmid\")"
   ]
  },
  {
   "cell_type": "code",
   "execution_count": null,
   "id": "a4bcfb38-1934-4e56-9ede-bbca2a3cd323",
   "metadata": {},
   "outputs": [],
   "source": [
    "from mitosheet import *; register_analysis(\"id-hngqohzmid\");\n",
    "    \n",
    "# Imported D:\\CODING\\Project\\rup\\data\\pp.csv\n",
    "import pandas as pd\n",
    "pp = pd.read_csv(r'D:\\CODING\\Project\\rup\\data\\pp.csv')\n",
    "\n",
    "# Deleted dataframe pp\n",
    "del pp\n",
    "\n",
    "# Imported D:\\CODING\\Project\\rup\\data\\pp.csv\n",
    "import pandas as pd\n",
    "pp = pd.read_csv(r'D:\\CODING\\Project\\rup\\data\\pp.csv')\n",
    "\n",
    "# Filtered statusumumkan in pp\n",
    "pp = pp[pp['statusumumkan'] == 'Terumumkan']\n",
    "\n",
    "# Pivoted pp into df2\n",
    "unused_columns = pp.columns.difference(set(['metodepengadaan']).union(set([])).union(set({'jumlahpagu'})))\n",
    "tmp_df = pp.drop(unused_columns, axis=1)\n",
    "pivot_table = tmp_df.pivot_table(\n",
    "    index=['metodepengadaan'],\n",
    "    values=['jumlahpagu'],\n",
    "    aggfunc={'jumlahpagu': ['count']}\n",
    ")\n",
    "pivot_table.set_axis([flatten_column_header(col) for col in pivot_table.keys()], axis=1, inplace=True)\n",
    "pp_pivot = pivot_table.reset_index()\n",
    "\n",
    "# Deleted dataframe pp_pivot\n",
    "del pp_pivot\n",
    "\n",
    "# Pivoted pp into df2\n",
    "unused_columns = pp.columns.difference(set(['metodepengadaan']).union(set([])).union(set({'jumlahpagu'})))\n",
    "tmp_df = pp.drop(unused_columns, axis=1)\n",
    "pivot_table = tmp_df.pivot_table(\n",
    "    index=['metodepengadaan'],\n",
    "    values=['jumlahpagu'],\n",
    "    aggfunc={'jumlahpagu': ['sum']}\n",
    ")\n",
    "pivot_table.set_axis([flatten_column_header(col) for col in pivot_table.keys()], axis=1, inplace=True)\n",
    "pp_pivot = pivot_table.reset_index()\n",
    "\n",
    "# Pivoted pp into df3\n",
    "unused_columns = pp.columns.difference(set(['jenispengadaan']).union(set([])).union(set({'jumlahpagu'})))\n",
    "tmp_df = pp.drop(unused_columns, axis=1)\n",
    "pivot_table = tmp_df.pivot_table(\n",
    "    index=['jenispengadaan'],\n",
    "    values=['jumlahpagu'],\n",
    "    aggfunc={'jumlahpagu': ['sum']}\n",
    ")\n",
    "pivot_table.set_axis([flatten_column_header(col) for col in pivot_table.keys()], axis=1, inplace=True)\n",
    "pp_pivot_1 = pivot_table.reset_index()\n"
   ]
  }
 ],
 "metadata": {
  "kernelspec": {
   "display_name": "Python 3 (ipykernel)",
   "language": "python",
   "name": "python3"
  },
  "language_info": {
   "codemirror_mode": {
    "name": "ipython",
    "version": 3
   },
   "file_extension": ".py",
   "mimetype": "text/x-python",
   "name": "python",
   "nbconvert_exporter": "python",
   "pygments_lexer": "ipython3",
   "version": "3.9.7"
  }
 },
 "nbformat": 4,
 "nbformat_minor": 5
}
